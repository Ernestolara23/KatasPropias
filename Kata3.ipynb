{
 "cells": [
  {
   "cell_type": "code",
   "execution_count": 1,
   "metadata": {},
   "outputs": [
    {
     "name": "stdout",
     "output_type": "stream",
     "text": [
      "Un asteroide se acerca a velocidades peligrosas!\n"
     ]
    }
   ],
   "source": [
    "asteroide = 49\n",
    "if asteroide > 25:\n",
    "    print('Un asteroide se acerca a velocidades peligrosas!')\n",
    "else:\n",
    "    print('Sigue con tu día!')"
   ]
  },
  {
   "cell_type": "code",
   "execution_count": 2,
   "metadata": {},
   "outputs": [
    {
     "name": "stdout",
     "output_type": "stream",
     "text": [
      "Aqui no hay nada que ver\n"
     ]
    }
   ],
   "source": [
    "asteroide = 19\n",
    "if asteroide > 20:\n",
    "    print('Mira arriba ¡Hay una luz mágica en el cielo!')\n",
    "elif asteroide == 20:\n",
    "    print('Mira arriba ¡Hay una luz mágica en el cielo!')\n",
    "else:\n",
    "    print('Aqui no hay nada que ver')"
   ]
  },
  {
   "cell_type": "code",
   "execution_count": 3,
   "metadata": {},
   "outputs": [
    {
     "name": "stdout",
     "output_type": "stream",
     "text": [
      "Mira arriba ¡Hay una luz mágica en el cielo!\n"
     ]
    }
   ],
   "source": [
    "speed_asteroide = 25\n",
    "size_asteroide = 40\n",
    "if speed_asteroide > 25 and size_asteroide > 25:\n",
    "    print('Un asteroide muy peligroso viene hacia la Tierra!')\n",
    "elif speed_asteroide >= 20:\n",
    "    print('Mira arriba ¡Hay una luz mágica en el cielo!')\n",
    "elif speed_asteroide < 25:\n",
    "    print('Aqui no hay nada que ver')\n",
    "else:\n",
    "    print('Aqui no hay nada que ver')"
   ]
  }
 ],
 "metadata": {
  "interpreter": {
   "hash": "c259da217e12c6128bbdbb079f9be7cd753724ec83b7ad426cf615f983e18f96"
  },
  "kernelspec": {
   "display_name": "Python 3.9.10 64-bit (windows store)",
   "language": "python",
   "name": "python3"
  },
  "language_info": {
   "codemirror_mode": {
    "name": "ipython",
    "version": 3
   },
   "file_extension": ".py",
   "mimetype": "text/x-python",
   "name": "python",
   "nbconvert_exporter": "python",
   "pygments_lexer": "ipython3",
   "version": "3.9.10"
  },
  "orig_nbformat": 4
 },
 "nbformat": 4,
 "nbformat_minor": 2
}

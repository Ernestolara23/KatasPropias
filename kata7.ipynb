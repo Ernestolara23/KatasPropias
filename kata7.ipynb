{
 "cells": [
  {
   "cell_type": "code",
   "execution_count": 7,
   "metadata": {},
   "outputs": [],
   "source": [
    "# Declaramos 2 variables\n",
    "\n",
    "tierra = ''\n",
    "planetas = [\"\"]\n",
    "\n",
    "# Escribe el ciclo while solicitado\n",
    "\n",
    "while tierra.lower() != 'jay':\n",
    "    if tierra:\n",
    "        planetas.append(tierra)\n",
    "    tierra = input('hola')"
   ]
  },
  {
   "cell_type": "code",
   "execution_count": 17,
   "metadata": {},
   "outputs": [
    {
     "name": "stdout",
     "output_type": "stream",
     "text": [
      "El planeta es Mercurio\n",
      "El planeta es Venus\n",
      "El planeta es Tierra\n",
      "El planeta es Marte\n",
      "El planeta es Júpiter\n",
      "El planeta es Saturno\n",
      "El planeta es Urano\n",
      "El planeta es Neptuno\n"
     ]
    }
   ],
   "source": [
    "planet = 0    \n",
    "planetas = ['Mercurio', 'Venus', 'Tierra', 'Marte', 'Júpiter', 'Saturno', 'Urano', 'Neptuno']\n",
    "while planet < 8:\n",
    "   print(\"El planeta es \" + planetas[planet])\n",
    "   planet += 1"
   ]
  }
 ],
 "metadata": {
  "interpreter": {
   "hash": "c259da217e12c6128bbdbb079f9be7cd753724ec83b7ad426cf615f983e18f96"
  },
  "kernelspec": {
   "display_name": "Python 3.9.10 64-bit (windows store)",
   "language": "python",
   "name": "python3"
  },
  "language_info": {
   "codemirror_mode": {
    "name": "ipython",
    "version": 3
   },
   "file_extension": ".py",
   "mimetype": "text/x-python",
   "name": "python",
   "nbconvert_exporter": "python",
   "pygments_lexer": "ipython3",
   "version": "3.9.10"
  },
  "orig_nbformat": 4
 },
 "nbformat": 4,
 "nbformat_minor": 2
}
